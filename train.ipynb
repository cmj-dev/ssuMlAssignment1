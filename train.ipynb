{
 "cells": [
  {
   "cell_type": "code",
   "execution_count": 13,
   "metadata": {},
   "outputs": [],
   "source": [
    "import pandas as pd\n",
    "import numpy as np\n",
    "import matplotlib.pyplot as plt\n",
    "import seaborn as sns"
   ]
  },
  {
   "cell_type": "code",
   "execution_count": 14,
   "metadata": {},
   "outputs": [
    {
     "data": {
      "text/html": [
       "<div>\n",
       "<style scoped>\n",
       "    .dataframe tbody tr th:only-of-type {\n",
       "        vertical-align: middle;\n",
       "    }\n",
       "\n",
       "    .dataframe tbody tr th {\n",
       "        vertical-align: top;\n",
       "    }\n",
       "\n",
       "    .dataframe thead th {\n",
       "        text-align: right;\n",
       "    }\n",
       "</style>\n",
       "<table border=\"1\" class=\"dataframe\">\n",
       "  <thead>\n",
       "    <tr style=\"text-align: right;\">\n",
       "      <th></th>\n",
       "      <th>qNum</th>\n",
       "      <th>TextLength</th>\n",
       "      <th>WordCount</th>\n",
       "      <th>AvgWordLength</th>\n",
       "      <th>AnswerRate</th>\n",
       "      <th>Entropy</th>\n",
       "      <th>T1</th>\n",
       "      <th>T2</th>\n",
       "      <th>T3</th>\n",
       "      <th>T4</th>\n",
       "      <th>T5</th>\n",
       "    </tr>\n",
       "  </thead>\n",
       "  <tbody>\n",
       "    <tr>\n",
       "      <th>0</th>\n",
       "      <td>4</td>\n",
       "      <td>138</td>\n",
       "      <td>23</td>\n",
       "      <td>6.000000</td>\n",
       "      <td>0.401408</td>\n",
       "      <td>1.381994</td>\n",
       "      <td>1.0</td>\n",
       "      <td>1.0</td>\n",
       "      <td>1.0</td>\n",
       "      <td>0.0</td>\n",
       "      <td>0.0</td>\n",
       "    </tr>\n",
       "    <tr>\n",
       "      <th>1</th>\n",
       "      <td>16</td>\n",
       "      <td>77</td>\n",
       "      <td>11</td>\n",
       "      <td>7.000000</td>\n",
       "      <td>0.583478</td>\n",
       "      <td>1.119654</td>\n",
       "      <td>1.0</td>\n",
       "      <td>1.0</td>\n",
       "      <td>0.0</td>\n",
       "      <td>0.0</td>\n",
       "      <td>0.0</td>\n",
       "    </tr>\n",
       "    <tr>\n",
       "      <th>2</th>\n",
       "      <td>27</td>\n",
       "      <td>0</td>\n",
       "      <td>0</td>\n",
       "      <td>0.000000</td>\n",
       "      <td>0.451696</td>\n",
       "      <td>1.328048</td>\n",
       "      <td>1.0</td>\n",
       "      <td>1.0</td>\n",
       "      <td>0.0</td>\n",
       "      <td>1.0</td>\n",
       "      <td>0.0</td>\n",
       "    </tr>\n",
       "    <tr>\n",
       "      <th>3</th>\n",
       "      <td>56</td>\n",
       "      <td>95</td>\n",
       "      <td>16</td>\n",
       "      <td>5.937500</td>\n",
       "      <td>0.516450</td>\n",
       "      <td>1.194283</td>\n",
       "      <td>0.0</td>\n",
       "      <td>1.0</td>\n",
       "      <td>0.0</td>\n",
       "      <td>0.0</td>\n",
       "      <td>0.0</td>\n",
       "    </tr>\n",
       "    <tr>\n",
       "      <th>4</th>\n",
       "      <td>116</td>\n",
       "      <td>100</td>\n",
       "      <td>17</td>\n",
       "      <td>5.882353</td>\n",
       "      <td>0.532516</td>\n",
       "      <td>1.138286</td>\n",
       "      <td>0.0</td>\n",
       "      <td>0.0</td>\n",
       "      <td>0.0</td>\n",
       "      <td>0.0</td>\n",
       "      <td>0.0</td>\n",
       "    </tr>\n",
       "  </tbody>\n",
       "</table>\n",
       "</div>"
      ],
      "text/plain": [
       "   qNum  TextLength  WordCount  AvgWordLength  AnswerRate   Entropy   T1   T2  \\\n",
       "0     4         138         23       6.000000    0.401408  1.381994  1.0  1.0   \n",
       "1    16          77         11       7.000000    0.583478  1.119654  1.0  1.0   \n",
       "2    27           0          0       0.000000    0.451696  1.328048  1.0  1.0   \n",
       "3    56          95         16       5.937500    0.516450  1.194283  0.0  1.0   \n",
       "4   116         100         17       5.882353    0.532516  1.138286  0.0  0.0   \n",
       "\n",
       "    T3   T4   T5  \n",
       "0  1.0  0.0  0.0  \n",
       "1  0.0  0.0  0.0  \n",
       "2  0.0  1.0  0.0  \n",
       "3  0.0  0.0  0.0  \n",
       "4  0.0  0.0  0.0  "
      ]
     },
     "execution_count": 14,
     "metadata": {},
     "output_type": "execute_result"
    }
   ],
   "source": [
    "questionQualityTrain = pd.read_csv('./preprocessing/questionDataTrain.csv')\n",
    "del questionQualityTrain['Unnamed: 0']\n",
    "questionQualityTrain.head()"
   ]
  },
  {
   "cell_type": "code",
   "execution_count": 15,
   "metadata": {},
   "outputs": [
    {
     "data": {
      "text/html": [
       "<div>\n",
       "<style scoped>\n",
       "    .dataframe tbody tr th:only-of-type {\n",
       "        vertical-align: middle;\n",
       "    }\n",
       "\n",
       "    .dataframe tbody tr th {\n",
       "        vertical-align: top;\n",
       "    }\n",
       "\n",
       "    .dataframe thead th {\n",
       "        text-align: right;\n",
       "    }\n",
       "</style>\n",
       "<table border=\"1\" class=\"dataframe\">\n",
       "  <thead>\n",
       "    <tr style=\"text-align: right;\">\n",
       "      <th></th>\n",
       "      <th>qNum</th>\n",
       "      <th>TextLength</th>\n",
       "      <th>WordCount</th>\n",
       "      <th>AvgWordLength</th>\n",
       "      <th>AnswerRate</th>\n",
       "      <th>Entropy</th>\n",
       "      <th>T1</th>\n",
       "      <th>T2</th>\n",
       "      <th>T3</th>\n",
       "      <th>T4</th>\n",
       "      <th>T5</th>\n",
       "    </tr>\n",
       "  </thead>\n",
       "  <tbody>\n",
       "    <tr>\n",
       "      <th>count</th>\n",
       "      <td>47.000000</td>\n",
       "      <td>47.000000</td>\n",
       "      <td>47.000000</td>\n",
       "      <td>47.000000</td>\n",
       "      <td>47.000000</td>\n",
       "      <td>47.000000</td>\n",
       "      <td>47.000000</td>\n",
       "      <td>47.000000</td>\n",
       "      <td>47.000000</td>\n",
       "      <td>47.000000</td>\n",
       "      <td>47.000000</td>\n",
       "    </tr>\n",
       "    <tr>\n",
       "      <th>mean</th>\n",
       "      <td>376.468085</td>\n",
       "      <td>116.148936</td>\n",
       "      <td>18.234043</td>\n",
       "      <td>6.340289</td>\n",
       "      <td>0.492111</td>\n",
       "      <td>1.169150</td>\n",
       "      <td>0.510638</td>\n",
       "      <td>0.510638</td>\n",
       "      <td>0.489362</td>\n",
       "      <td>0.489362</td>\n",
       "      <td>0.510638</td>\n",
       "    </tr>\n",
       "    <tr>\n",
       "      <th>std</th>\n",
       "      <td>243.370879</td>\n",
       "      <td>67.993279</td>\n",
       "      <td>11.806801</td>\n",
       "      <td>1.799205</td>\n",
       "      <td>0.171195</td>\n",
       "      <td>0.241291</td>\n",
       "      <td>0.505291</td>\n",
       "      <td>0.505291</td>\n",
       "      <td>0.505291</td>\n",
       "      <td>0.505291</td>\n",
       "      <td>0.505291</td>\n",
       "    </tr>\n",
       "    <tr>\n",
       "      <th>min</th>\n",
       "      <td>13.000000</td>\n",
       "      <td>0.000000</td>\n",
       "      <td>0.000000</td>\n",
       "      <td>0.000000</td>\n",
       "      <td>0.164776</td>\n",
       "      <td>0.500000</td>\n",
       "      <td>0.000000</td>\n",
       "      <td>0.000000</td>\n",
       "      <td>0.000000</td>\n",
       "      <td>0.000000</td>\n",
       "      <td>0.000000</td>\n",
       "    </tr>\n",
       "    <tr>\n",
       "      <th>25%</th>\n",
       "      <td>178.000000</td>\n",
       "      <td>66.500000</td>\n",
       "      <td>8.500000</td>\n",
       "      <td>5.803668</td>\n",
       "      <td>0.331373</td>\n",
       "      <td>1.014437</td>\n",
       "      <td>0.000000</td>\n",
       "      <td>0.000000</td>\n",
       "      <td>0.000000</td>\n",
       "      <td>0.000000</td>\n",
       "      <td>0.000000</td>\n",
       "    </tr>\n",
       "    <tr>\n",
       "      <th>50%</th>\n",
       "      <td>357.000000</td>\n",
       "      <td>96.000000</td>\n",
       "      <td>16.000000</td>\n",
       "      <td>6.250000</td>\n",
       "      <td>0.486194</td>\n",
       "      <td>1.233473</td>\n",
       "      <td>1.000000</td>\n",
       "      <td>1.000000</td>\n",
       "      <td>0.000000</td>\n",
       "      <td>0.000000</td>\n",
       "      <td>1.000000</td>\n",
       "    </tr>\n",
       "    <tr>\n",
       "      <th>75%</th>\n",
       "      <td>523.500000</td>\n",
       "      <td>183.500000</td>\n",
       "      <td>29.500000</td>\n",
       "      <td>7.219048</td>\n",
       "      <td>0.629262</td>\n",
       "      <td>1.354630</td>\n",
       "      <td>1.000000</td>\n",
       "      <td>1.000000</td>\n",
       "      <td>1.000000</td>\n",
       "      <td>1.000000</td>\n",
       "      <td>1.000000</td>\n",
       "    </tr>\n",
       "    <tr>\n",
       "      <th>max</th>\n",
       "      <td>907.000000</td>\n",
       "      <td>257.000000</td>\n",
       "      <td>44.000000</td>\n",
       "      <td>10.428571</td>\n",
       "      <td>0.844262</td>\n",
       "      <td>1.472193</td>\n",
       "      <td>1.000000</td>\n",
       "      <td>1.000000</td>\n",
       "      <td>1.000000</td>\n",
       "      <td>1.000000</td>\n",
       "      <td>1.000000</td>\n",
       "    </tr>\n",
       "  </tbody>\n",
       "</table>\n",
       "</div>"
      ],
      "text/plain": [
       "             qNum  TextLength  WordCount  AvgWordLength  AnswerRate  \\\n",
       "count   47.000000   47.000000  47.000000      47.000000   47.000000   \n",
       "mean   376.468085  116.148936  18.234043       6.340289    0.492111   \n",
       "std    243.370879   67.993279  11.806801       1.799205    0.171195   \n",
       "min     13.000000    0.000000   0.000000       0.000000    0.164776   \n",
       "25%    178.000000   66.500000   8.500000       5.803668    0.331373   \n",
       "50%    357.000000   96.000000  16.000000       6.250000    0.486194   \n",
       "75%    523.500000  183.500000  29.500000       7.219048    0.629262   \n",
       "max    907.000000  257.000000  44.000000      10.428571    0.844262   \n",
       "\n",
       "         Entropy         T1         T2         T3         T4         T5  \n",
       "count  47.000000  47.000000  47.000000  47.000000  47.000000  47.000000  \n",
       "mean    1.169150   0.510638   0.510638   0.489362   0.489362   0.510638  \n",
       "std     0.241291   0.505291   0.505291   0.505291   0.505291   0.505291  \n",
       "min     0.500000   0.000000   0.000000   0.000000   0.000000   0.000000  \n",
       "25%     1.014437   0.000000   0.000000   0.000000   0.000000   0.000000  \n",
       "50%     1.233473   1.000000   1.000000   0.000000   0.000000   1.000000  \n",
       "75%     1.354630   1.000000   1.000000   1.000000   1.000000   1.000000  \n",
       "max     1.472193   1.000000   1.000000   1.000000   1.000000   1.000000  "
      ]
     },
     "execution_count": 15,
     "metadata": {},
     "output_type": "execute_result"
    }
   ],
   "source": [
    "questionQualityTest = pd.read_csv('./preprocessing/questionDataTest.csv')\n",
    "del questionQualityTest['Unnamed: 0']\n",
    "questionQualityTest.describe()"
   ]
  },
  {
   "cell_type": "code",
   "execution_count": 27,
   "metadata": {},
   "outputs": [],
   "source": [
    "XTrain = questionQualityTrain.loc[:,['TextLength','WordCount','AvgWordLength','AnswerRate','Entropy']]\n",
    "YTrainT1 = questionQualityTrain.loc[:,['T1']]\n",
    "YTrainT2 = questionQualityTrain.loc[:,['T2']]\n",
    "YTrainT3 = questionQualityTrain.loc[:,['T3']]\n",
    "YTrainT4 = questionQualityTrain.loc[:,['T4']]\n",
    "YTrainT5 = questionQualityTrain.loc[:,['T5']]\n",
    "YTrain = pd.DataFrame(questionQualityTrain.loc[:,['T1','T2','T3','T4','T5']].mean(axis=1),index=questionQualityTrain.index,columns=['meanScore'])\n",
    "#Train = questionQualityTrain.loc[:,['AnswerRate','SelectionStd','Entropy','TokenLength','T1','T2','T3','T4','T5']]\n",
    "XTest = questionQualityTest.loc[:,['TextLength','WordCount','AvgWordLength','AnswerRate','Entropy']]\n",
    "TrainQnum = questionQualityTrain.loc[:,['qNum']]\n",
    "TestQnum = questionQualityTest.loc[:,['qNum']]"
   ]
  },
  {
   "cell_type": "code",
   "execution_count": 17,
   "metadata": {},
   "outputs": [
    {
     "data": {
      "text/html": [
       "<div>\n",
       "<style scoped>\n",
       "    .dataframe tbody tr th:only-of-type {\n",
       "        vertical-align: middle;\n",
       "    }\n",
       "\n",
       "    .dataframe tbody tr th {\n",
       "        vertical-align: top;\n",
       "    }\n",
       "\n",
       "    .dataframe thead th {\n",
       "        text-align: right;\n",
       "    }\n",
       "</style>\n",
       "<table border=\"1\" class=\"dataframe\">\n",
       "  <thead>\n",
       "    <tr style=\"text-align: right;\">\n",
       "      <th></th>\n",
       "      <th>TextLength</th>\n",
       "      <th>WordCount</th>\n",
       "      <th>AvgWordLength</th>\n",
       "      <th>AnswerRate</th>\n",
       "      <th>Entropy</th>\n",
       "    </tr>\n",
       "  </thead>\n",
       "  <tbody>\n",
       "    <tr>\n",
       "      <th>TextLength</th>\n",
       "      <td>1.000000</td>\n",
       "      <td>0.985697</td>\n",
       "      <td>0.154480</td>\n",
       "      <td>-0.081202</td>\n",
       "      <td>0.157567</td>\n",
       "    </tr>\n",
       "    <tr>\n",
       "      <th>WordCount</th>\n",
       "      <td>0.985697</td>\n",
       "      <td>1.000000</td>\n",
       "      <td>0.049917</td>\n",
       "      <td>-0.090987</td>\n",
       "      <td>0.176684</td>\n",
       "    </tr>\n",
       "    <tr>\n",
       "      <th>AvgWordLength</th>\n",
       "      <td>0.154480</td>\n",
       "      <td>0.049917</td>\n",
       "      <td>1.000000</td>\n",
       "      <td>0.263262</td>\n",
       "      <td>-0.346170</td>\n",
       "    </tr>\n",
       "    <tr>\n",
       "      <th>AnswerRate</th>\n",
       "      <td>-0.081202</td>\n",
       "      <td>-0.090987</td>\n",
       "      <td>0.263262</td>\n",
       "      <td>1.000000</td>\n",
       "      <td>-0.845209</td>\n",
       "    </tr>\n",
       "    <tr>\n",
       "      <th>Entropy</th>\n",
       "      <td>0.157567</td>\n",
       "      <td>0.176684</td>\n",
       "      <td>-0.346170</td>\n",
       "      <td>-0.845209</td>\n",
       "      <td>1.000000</td>\n",
       "    </tr>\n",
       "  </tbody>\n",
       "</table>\n",
       "</div>"
      ],
      "text/plain": [
       "               TextLength  WordCount  AvgWordLength  AnswerRate   Entropy\n",
       "TextLength       1.000000   0.985697       0.154480   -0.081202  0.157567\n",
       "WordCount        0.985697   1.000000       0.049917   -0.090987  0.176684\n",
       "AvgWordLength    0.154480   0.049917       1.000000    0.263262 -0.346170\n",
       "AnswerRate      -0.081202  -0.090987       0.263262    1.000000 -0.845209\n",
       "Entropy          0.157567   0.176684      -0.346170   -0.845209  1.000000"
      ]
     },
     "execution_count": 17,
     "metadata": {},
     "output_type": "execute_result"
    }
   ],
   "source": [
    "XTrain.corr()"
   ]
  },
  {
   "attachments": {},
   "cell_type": "markdown",
   "metadata": {},
   "source": [
    "## Train Data"
   ]
  },
  {
   "cell_type": "code",
   "execution_count": 26,
   "metadata": {},
   "outputs": [],
   "source": [
    "qualityResponsePublic = pd.read_csv('./data/test_data/quality_response_remapped_public.csv')\n",
    "del qualityResponsePublic['Unnamed: 0.1']\n",
    "del qualityResponsePublic['Unnamed: 0']\n",
    "qualityResponsePublic = qualityResponsePublic.astype('Int64')\n",
    "qualityResponsePublic = qualityResponsePublic.dropna()"
   ]
  },
  {
   "attachments": {},
   "cell_type": "markdown",
   "metadata": {},
   "source": [
    "## Test Data"
   ]
  },
  {
   "cell_type": "code",
   "execution_count": 18,
   "metadata": {},
   "outputs": [],
   "source": [
    "qualityResponsePrivate = pd.read_csv('./data/test_data/quality_response_remapped_private.csv')\n",
    "del qualityResponsePrivate['Unnamed: 0.1']\n",
    "del qualityResponsePrivate['Unnamed: 0']\n",
    "qualityResponsePrivate = qualityResponsePrivate.astype('Int64')\n",
    "qualityResponsePrivate = qualityResponsePrivate.dropna()"
   ]
  },
  {
   "attachments": {},
   "cell_type": "markdown",
   "metadata": {},
   "source": [
    "## Logistic Regression"
   ]
  },
  {
   "cell_type": "code",
   "execution_count": 19,
   "metadata": {},
   "outputs": [],
   "source": [
    "import statsmodels.api as sm\n",
    "import statsmodels.formula.api as smf"
   ]
  },
  {
   "cell_type": "code",
   "execution_count": 20,
   "metadata": {},
   "outputs": [
    {
     "name": "stdout",
     "output_type": "stream",
     "text": [
      "Index(['TextLength', 'WordCount', 'AvgWordLength', 'AnswerRate', 'Entropy'], dtype='object')\n"
     ]
    }
   ],
   "source": [
    "print(XTrain.columns)"
   ]
  },
  {
   "cell_type": "code",
   "execution_count": 21,
   "metadata": {},
   "outputs": [
    {
     "data": {
      "text/html": [
       "<table class=\"simpletable\">\n",
       "<caption>Generalized Linear Model Regression Results</caption>\n",
       "<tr>\n",
       "  <th>Dep. Variable:</th>       <td>meanScore</td>    <th>  No. Observations:  </th>  <td>    49</td> \n",
       "</tr>\n",
       "<tr>\n",
       "  <th>Model:</th>                  <td>GLM</td>       <th>  Df Residuals:      </th>  <td>    46</td> \n",
       "</tr>\n",
       "<tr>\n",
       "  <th>Model Family:</th>        <td>Binomial</td>     <th>  Df Model:          </th>  <td>     2</td> \n",
       "</tr>\n",
       "<tr>\n",
       "  <th>Link Function:</th>         <td>Logit</td>      <th>  Scale:             </th> <td>  1.0000</td>\n",
       "</tr>\n",
       "<tr>\n",
       "  <th>Method:</th>                <td>IRLS</td>       <th>  Log-Likelihood:    </th> <td> -26.570</td>\n",
       "</tr>\n",
       "<tr>\n",
       "  <th>Date:</th>            <td>Sun, 07 May 2023</td> <th>  Deviance:          </th> <td>  28.116</td>\n",
       "</tr>\n",
       "<tr>\n",
       "  <th>Time:</th>                <td>14:33:58</td>     <th>  Pearson chi2:      </th>  <td>  22.4</td> \n",
       "</tr>\n",
       "<tr>\n",
       "  <th>No. Iterations:</th>          <td>3</td>        <th>  Pseudo R-squ. (CS):</th>  <td>0.05238</td>\n",
       "</tr>\n",
       "<tr>\n",
       "  <th>Covariance Type:</th>     <td>nonrobust</td>    <th>                     </th>     <td> </td>   \n",
       "</tr>\n",
       "</table>\n",
       "<table class=\"simpletable\">\n",
       "<tr>\n",
       "        <td></td>           <th>coef</th>     <th>std err</th>      <th>z</th>      <th>P>|z|</th>  <th>[0.025</th>    <th>0.975]</th>  \n",
       "</tr>\n",
       "<tr>\n",
       "  <th>Intercept</th>     <td>    0.2740</td> <td>    1.000</td> <td>    0.274</td> <td> 0.784</td> <td>   -1.686</td> <td>    2.234</td>\n",
       "</tr>\n",
       "<tr>\n",
       "  <th>WordCount</th>     <td>    0.0292</td> <td>    0.022</td> <td>    1.340</td> <td> 0.180</td> <td>   -0.013</td> <td>    0.072</td>\n",
       "</tr>\n",
       "<tr>\n",
       "  <th>AvgWordLength</th> <td>   -0.1348</td> <td>    0.147</td> <td>   -0.916</td> <td> 0.360</td> <td>   -0.423</td> <td>    0.154</td>\n",
       "</tr>\n",
       "</table>"
      ],
      "text/plain": [
       "<class 'statsmodels.iolib.summary.Summary'>\n",
       "\"\"\"\n",
       "                 Generalized Linear Model Regression Results                  \n",
       "==============================================================================\n",
       "Dep. Variable:              meanScore   No. Observations:                   49\n",
       "Model:                            GLM   Df Residuals:                       46\n",
       "Model Family:                Binomial   Df Model:                            2\n",
       "Link Function:                  Logit   Scale:                          1.0000\n",
       "Method:                          IRLS   Log-Likelihood:                -26.570\n",
       "Date:                Sun, 07 May 2023   Deviance:                       28.116\n",
       "Time:                        14:33:58   Pearson chi2:                     22.4\n",
       "No. Iterations:                     3   Pseudo R-squ. (CS):            0.05238\n",
       "Covariance Type:            nonrobust                                         \n",
       "=================================================================================\n",
       "                    coef    std err          z      P>|z|      [0.025      0.975]\n",
       "---------------------------------------------------------------------------------\n",
       "Intercept         0.2740      1.000      0.274      0.784      -1.686       2.234\n",
       "WordCount         0.0292      0.022      1.340      0.180      -0.013       0.072\n",
       "AvgWordLength    -0.1348      0.147     -0.916      0.360      -0.423       0.154\n",
       "=================================================================================\n",
       "\"\"\""
      ]
     },
     "execution_count": 21,
     "metadata": {},
     "output_type": "execute_result"
    }
   ],
   "source": [
    "formulaOCR = \"\"\"meanScore ~ WordCount + AvgWordLength\"\"\"\n",
    "modelOCR = smf.glm(formula = formulaOCR,\n",
    "                data=XTrain.join(YTrain), family=sm.families.Binomial())\n",
    "modelOCR_fit = modelOCR.fit() \n",
    "modelOCR_fit.summary()"
   ]
  },
  {
   "cell_type": "code",
   "execution_count": 30,
   "metadata": {},
   "outputs": [
    {
     "name": "stdout",
     "output_type": "stream",
     "text": [
      "(0.64, 0.68, 0.68, 0.64, 0.64)\n"
     ]
    }
   ],
   "source": [
    "YhatOCR = modelOCR_fit.predict(XTrain)\n",
    "trainScoreDfOCR = TrainQnum.join(pd.DataFrame(YhatOCR, columns=['score']))\n",
    "trainScoreDfOCR = trainScoreDfOCR.set_index('qNum')\n",
    "pred = []\n",
    "for i, row in qualityResponsePublic.iterrows():\n",
    "    left, right = row['left'], row['right']\n",
    "    valueL, valueR = trainScoreDfOCR.loc[left,'score'], trainScoreDfOCR.loc[right,'score']\n",
    "    pred.append(1 if valueL > valueR else 2)\n",
    "accResult = (np.mean(pred == qualityResponsePublic['T1_ALR']),\n",
    "                np.mean(pred == qualityResponsePublic['T2_CL']),\n",
    "                np.mean(pred == qualityResponsePublic['T3_GF']),\n",
    "                np.mean(pred == qualityResponsePublic['T4_MQ']),\n",
    "                np.mean(pred == qualityResponsePublic['T5_NS']))\n",
    "print(accResult)\n",
    "maxTrainScoreOCR = max(accResult)"
   ]
  },
  {
   "cell_type": "code",
   "execution_count": 31,
   "metadata": {},
   "outputs": [
    {
     "data": {
      "text/html": [
       "<table class=\"simpletable\">\n",
       "<caption>Generalized Linear Model Regression Results</caption>\n",
       "<tr>\n",
       "  <th>Dep. Variable:</th>       <td>meanScore</td>    <th>  No. Observations:  </th>  <td>    49</td> \n",
       "</tr>\n",
       "<tr>\n",
       "  <th>Model:</th>                  <td>GLM</td>       <th>  Df Residuals:      </th>  <td>    47</td> \n",
       "</tr>\n",
       "<tr>\n",
       "  <th>Model Family:</th>        <td>Binomial</td>     <th>  Df Model:          </th>  <td>     1</td> \n",
       "</tr>\n",
       "<tr>\n",
       "  <th>Link Function:</th>         <td>Logit</td>      <th>  Scale:             </th> <td>  1.0000</td>\n",
       "</tr>\n",
       "<tr>\n",
       "  <th>Method:</th>                <td>IRLS</td>       <th>  Log-Likelihood:    </th> <td> -24.721</td>\n",
       "</tr>\n",
       "<tr>\n",
       "  <th>Date:</th>            <td>Sun, 07 May 2023</td> <th>  Deviance:          </th> <td>  24.417</td>\n",
       "</tr>\n",
       "<tr>\n",
       "  <th>Time:</th>                <td>14:42:28</td>     <th>  Pearson chi2:      </th>  <td>  19.9</td> \n",
       "</tr>\n",
       "<tr>\n",
       "  <th>No. Iterations:</th>          <td>4</td>        <th>  Pseudo R-squ. (CS):</th>  <td>0.1213</td> \n",
       "</tr>\n",
       "<tr>\n",
       "  <th>Covariance Type:</th>     <td>nonrobust</td>    <th>                     </th>     <td> </td>   \n",
       "</tr>\n",
       "</table>\n",
       "<table class=\"simpletable\">\n",
       "<tr>\n",
       "      <td></td>         <th>coef</th>     <th>std err</th>      <th>z</th>      <th>P>|z|</th>  <th>[0.025</th>    <th>0.975]</th>  \n",
       "</tr>\n",
       "<tr>\n",
       "  <th>Intercept</th> <td>   -4.5937</td> <td>    2.118</td> <td>   -2.169</td> <td> 0.030</td> <td>   -8.745</td> <td>   -0.442</td>\n",
       "</tr>\n",
       "<tr>\n",
       "  <th>Entropy</th>   <td>    3.9157</td> <td>    1.755</td> <td>    2.231</td> <td> 0.026</td> <td>    0.476</td> <td>    7.356</td>\n",
       "</tr>\n",
       "</table>"
      ],
      "text/plain": [
       "<class 'statsmodels.iolib.summary.Summary'>\n",
       "\"\"\"\n",
       "                 Generalized Linear Model Regression Results                  \n",
       "==============================================================================\n",
       "Dep. Variable:              meanScore   No. Observations:                   49\n",
       "Model:                            GLM   Df Residuals:                       47\n",
       "Model Family:                Binomial   Df Model:                            1\n",
       "Link Function:                  Logit   Scale:                          1.0000\n",
       "Method:                          IRLS   Log-Likelihood:                -24.721\n",
       "Date:                Sun, 07 May 2023   Deviance:                       24.417\n",
       "Time:                        14:42:28   Pearson chi2:                     19.9\n",
       "No. Iterations:                     4   Pseudo R-squ. (CS):             0.1213\n",
       "Covariance Type:            nonrobust                                         \n",
       "==============================================================================\n",
       "                 coef    std err          z      P>|z|      [0.025      0.975]\n",
       "------------------------------------------------------------------------------\n",
       "Intercept     -4.5937      2.118     -2.169      0.030      -8.745      -0.442\n",
       "Entropy        3.9157      1.755      2.231      0.026       0.476       7.356\n",
       "==============================================================================\n",
       "\"\"\""
      ]
     },
     "execution_count": 31,
     "metadata": {},
     "output_type": "execute_result"
    }
   ],
   "source": [
    "formulaE = \"\"\"meanScore ~ Entropy\"\"\"\n",
    "modelE = smf.glm(formula = formulaE,\n",
    "                data=XTrain.join(YTrain), family=sm.families.Binomial())\n",
    "modelE_fit = modelE.fit() \n",
    "modelE_fit.summary()"
   ]
  },
  {
   "cell_type": "code",
   "execution_count": 32,
   "metadata": {},
   "outputs": [
    {
     "name": "stdout",
     "output_type": "stream",
     "text": [
      "(0.72, 0.76, 0.76, 0.64, 0.64)\n"
     ]
    }
   ],
   "source": [
    "YhatE = modelE_fit.predict(XTrain)\n",
    "trainScoreDfE = TrainQnum.join(pd.DataFrame(YhatE, columns=['score']))\n",
    "trainScoreDfE = trainScoreDfE.set_index('qNum')\n",
    "pred = []\n",
    "for i, row in qualityResponsePublic.iterrows():\n",
    "    left, right = row['left'], row['right']\n",
    "    valueL, valueR = trainScoreDfE.loc[left,'score'], trainScoreDfE.loc[right,'score']\n",
    "    pred.append(1 if valueL > valueR else 2)\n",
    "accResult = (np.mean(pred == qualityResponsePublic['T1_ALR']),\n",
    "                np.mean(pred == qualityResponsePublic['T2_CL']),\n",
    "                np.mean(pred == qualityResponsePublic['T3_GF']),\n",
    "                np.mean(pred == qualityResponsePublic['T4_MQ']),\n",
    "                np.mean(pred == qualityResponsePublic['T5_NS']))\n",
    "print(accResult)\n",
    "maxTrainScoreE = max(accResult)"
   ]
  },
  {
   "attachments": {},
   "cell_type": "markdown",
   "metadata": {},
   "source": [
    "## Ensemble"
   ]
  },
  {
   "cell_type": "code",
   "execution_count": 55,
   "metadata": {},
   "outputs": [
    {
     "data": {
      "text/plain": [
       "<matplotlib.legend.Legend at 0x7fcb6144fd60>"
      ]
     },
     "execution_count": 55,
     "metadata": {},
     "output_type": "execute_result"
    },
    {
     "data": {
      "image/png": "[encoded data removed]",
      "text/plain": [
       "<Figure size 640x480 with 1 Axes>"
      ]
     },
     "metadata": {},
     "output_type": "display_data"
    }
   ],
   "source": [
    "YhatOCR = modelOCR_fit.predict(XTrain)\n",
    "trainScoreDfOCR = TrainQnum.join(pd.DataFrame(YhatOCR, columns=['score']))\n",
    "trainScoreDfOCR = trainScoreDfOCR.set_index('qNum')\n",
    "YhatE = modelE_fit.predict(XTrain)\n",
    "trainScoreDfE = TrainQnum.join(pd.DataFrame(YhatE, columns=['score']))\n",
    "trainScoreDfE = trainScoreDfE.set_index('qNum')\n",
    "results = []\n",
    "for i in range(100):\n",
    "    pred = []\n",
    "    ensembleRate = i/100\n",
    "    for i, row in qualityResponsePublic.iterrows():\n",
    "        left, right = row['left'], row['right']\n",
    "        valueLOCR, valueROCR = trainScoreDfOCR.loc[left,'score'], trainScoreDfOCR.loc[right,'score']\n",
    "        valueLE, valueRE = trainScoreDfE.loc[left,'score'], trainScoreDfE.loc[right,'score']\n",
    "        valueL, valueR = ensembleRate*valueLOCR + (1-ensembleRate)*valueLE, ensembleRate*valueROCR + (1-ensembleRate)*valueRE\n",
    "        pred.append(1 if valueL > valueR else 2)\n",
    "    accResult = (np.mean(pred == qualityResponsePublic['T1_ALR']),\n",
    "        np.mean(pred == qualityResponsePublic['T2_CL']),\n",
    "        np.mean(pred == qualityResponsePublic['T3_GF']),\n",
    "        np.mean(pred == qualityResponsePublic['T4_MQ']),\n",
    "        np.mean(pred == qualityResponsePublic['T5_NS']))\n",
    "    results.append(accResult)\n",
    "arrResult = np.array(results)\n",
    "plt.plot(range(100), arrResult[:,0], 'g', label='T1')\n",
    "plt.plot(range(100), arrResult[:,1], 'r', label='T2')\n",
    "plt.plot(range(100), arrResult[:,2], 'black', label='T3')\n",
    "plt.plot(range(100), arrResult[:,3], 'b', label='T4')\n",
    "plt.plot(range(100), arrResult[:,4], 'y', label='T5')\n",
    "plt.legend()"
   ]
  },
  {
   "cell_type": "code",
   "execution_count": 67,
   "metadata": {},
   "outputs": [
    {
     "data": {
      "text/plain": [
       "<matplotlib.legend.Legend at 0x7fcb631d0730>"
      ]
     },
     "execution_count": 67,
     "metadata": {},
     "output_type": "execute_result"
    },
    {
     "data": {
      "image/png": "[encoded data removed]",
      "text/plain": [
       "<Figure size 640x480 with 1 Axes>"
      ]
     },
     "metadata": {},
     "output_type": "display_data"
    }
   ],
   "source": [
    "YhatOCR = modelOCR_fit.predict(XTest)\n",
    "testScoreDfOCR = TestQnum.join(pd.DataFrame(YhatOCR, columns=['score']))\n",
    "testScoreDfOCR = testScoreDfOCR.set_index('qNum')\n",
    "YhatE = modelE_fit.predict(XTest)\n",
    "testScoreDfE = TestQnum.join(pd.DataFrame(YhatE, columns=['score']))\n",
    "testScoreDfE = testScoreDfE.set_index('qNum')\n",
    "results = []\n",
    "range = np.arange(40,70)\n",
    "for i in range:\n",
    "    ensembleRate = i/100\n",
    "    pred = []\n",
    "    for i, row in qualityResponsePrivate.iterrows():\n",
    "        left, right = row['left'], row['right']\n",
    "        valueLOCR, valueROCR = testScoreDfOCR.loc[left,'score'], testScoreDfOCR.loc[right,'score']\n",
    "        valueLE, valueRE = testScoreDfE.loc[left,'score'], testScoreDfE.loc[right,'score']\n",
    "        valueL, valueR = ensembleRate*valueLOCR + (1-ensembleRate)*valueLE, ensembleRate*valueROCR + (1-ensembleRate)*valueRE\n",
    "        pred.append(1 if valueL > valueR else 2)\n",
    "    accResult = (np.mean(pred == qualityResponsePrivate['T1_ALR']),\n",
    "                 np.mean(pred == qualityResponsePrivate['T2_CL']),\n",
    "                 np.mean(pred == qualityResponsePrivate['T3_GF']),\n",
    "                 np.mean(pred == qualityResponsePrivate['T4_MQ']),\n",
    "                 np.mean(pred == qualityResponsePrivate['T5_NS']))\n",
    "    results.append(accResult)\n",
    "arrResult = np.array(results)\n",
    "plt.plot(range, arrResult[:,0], 'g', label='T1')\n",
    "plt.plot(range, arrResult[:,1], 'r', label='T2')\n",
    "plt.plot(range, arrResult[:,2], 'black', label='T3')\n",
    "plt.plot(range, arrResult[:,3], 'b', label='T4')\n",
    "plt.plot(range, arrResult[:,4], 'y', label='T5')\n",
    "plt.legend()"
   ]
  },
  {
   "cell_type": "code",
   "execution_count": 73,
   "metadata": {},
   "outputs": [
    {
     "name": "stdout",
     "output_type": "stream",
     "text": [
      "47 0.7916666666666666\n"
     ]
    }
   ],
   "source": [
    "ensemble = arrResult[:,3].argmax() + 40\n",
    "print(ensemble, arrResult[7,3])"
   ]
  },
  {
   "attachments": {},
   "cell_type": "markdown",
   "metadata": {},
   "source": [
    "## Prediction"
   ]
  },
  {
   "cell_type": "code",
   "execution_count": 25,
   "metadata": {},
   "outputs": [
    {
     "data": {
      "text/html": [
       "<div>\n",
       "<style scoped>\n",
       "    .dataframe tbody tr th:only-of-type {\n",
       "        vertical-align: middle;\n",
       "    }\n",
       "\n",
       "    .dataframe tbody tr th {\n",
       "        vertical-align: top;\n",
       "    }\n",
       "\n",
       "    .dataframe thead th {\n",
       "        text-align: right;\n",
       "    }\n",
       "</style>\n",
       "<table border=\"1\" class=\"dataframe\">\n",
       "  <thead>\n",
       "    <tr style=\"text-align: right;\">\n",
       "      <th></th>\n",
       "      <th>TextLength</th>\n",
       "      <th>WordCount</th>\n",
       "      <th>AvgWordLength</th>\n",
       "      <th>AnswerRate</th>\n",
       "      <th>Entropy</th>\n",
       "    </tr>\n",
       "  </thead>\n",
       "  <tbody>\n",
       "    <tr>\n",
       "      <th>0</th>\n",
       "      <td>143</td>\n",
       "      <td>24</td>\n",
       "      <td>5.958333</td>\n",
       "      <td>0.443457</td>\n",
       "      <td>1.203001</td>\n",
       "    </tr>\n",
       "    <tr>\n",
       "      <th>1</th>\n",
       "      <td>50</td>\n",
       "      <td>5</td>\n",
       "      <td>10.000000</td>\n",
       "      <td>0.571429</td>\n",
       "      <td>0.802464</td>\n",
       "    </tr>\n",
       "    <tr>\n",
       "      <th>2</th>\n",
       "      <td>101</td>\n",
       "      <td>8</td>\n",
       "      <td>12.625000</td>\n",
       "      <td>0.385214</td>\n",
       "      <td>1.391026</td>\n",
       "    </tr>\n",
       "    <tr>\n",
       "      <th>3</th>\n",
       "      <td>32</td>\n",
       "      <td>6</td>\n",
       "      <td>5.333333</td>\n",
       "      <td>0.808757</td>\n",
       "      <td>0.755624</td>\n",
       "    </tr>\n",
       "    <tr>\n",
       "      <th>4</th>\n",
       "      <td>138</td>\n",
       "      <td>23</td>\n",
       "      <td>6.000000</td>\n",
       "      <td>0.401408</td>\n",
       "      <td>1.381994</td>\n",
       "    </tr>\n",
       "  </tbody>\n",
       "</table>\n",
       "</div>"
      ],
      "text/plain": [
       "   TextLength  WordCount  AvgWordLength  AnswerRate   Entropy\n",
       "0         143         24       5.958333    0.443457  1.203001\n",
       "1          50          5      10.000000    0.571429  0.802464\n",
       "2         101          8      12.625000    0.385214  1.391026\n",
       "3          32          6       5.333333    0.808757  0.755624\n",
       "4         138         23       6.000000    0.401408  1.381994"
      ]
     },
     "execution_count": 25,
     "metadata": {},
     "output_type": "execute_result"
    }
   ],
   "source": [
    "forPredictDf = pd.read_csv('./preprocessing/qaResultDF.csv')\n",
    "del forPredictDf['Unnamed: 0']\n",
    "forPredictDf = forPredictDf[['TextLength','WordCount','AvgWordLength','AnswerRate','Entropy']]\n",
    "forPredictDf.head()"
   ]
  },
  {
   "attachments": {},
   "cell_type": "markdown",
   "metadata": {},
   "source": []
  },
  {
   "cell_type": "code",
   "execution_count": 600,
   "metadata": {},
   "outputs": [],
   "source": [
    "YhatOCR = modelOCR_fit.predict(forPredictDf)\n",
    "YhatE = modelE_fit.predict(forPredictDf)\n",
    "Yhat = YhatOCR*ensemble/100 + YhatE*(1-ensemble/100)\n",
    "qualityScore = pd.DataFrame(Yhat,columns=['Score'])\n",
    "qualityScore.sort_values(['Score'],ascending=False, inplace=True)\n",
    "qualityScore.reset_index(inplace=True)\n",
    "qualityScore.rename(columns={'index':'QuestionId'}, inplace=True)\n",
    "qualityScore.sort_values(['QuestionId'], inplace=True)\n",
    "qualityScore.reset_index(inplace=True)\n",
    "qualityScore.rename(columns={'index':'ranking'}, inplace=True)\n",
    "qualityScore['ranking'] = qualityScore['ranking'] + 1\n",
    "qualityScore.set_index('QuestionId',inplace=True)"
   ]
  },
  {
   "cell_type": "code",
   "execution_count": 604,
   "metadata": {},
   "outputs": [],
   "source": [
    "qualityScore.loc[:,['ranking']].to_csv('submission.csv')"
   ]
  }
 ],
 "metadata": {
  "kernelspec": {
   "display_name": "ML",
   "language": "python",
   "name": "python3"
  },
  "language_info": {
   "codemirror_mode": {
    "name": "ipython",
    "version": 3
   },
   "file_extension": ".py",
   "mimetype": "text/x-python",
   "name": "python",
   "nbconvert_exporter": "python",
   "pygments_lexer": "ipython3",
   "version": "3.9.13"
  },
  "orig_nbformat": 4
 },
 "nbformat": 4,
 "nbformat_minor": 2
}
